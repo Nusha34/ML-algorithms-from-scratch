{
 "cells": [
  {
   "cell_type": "markdown",
   "metadata": {},
   "source": [
    "Sources:\n",
    "- lectures by Michael Granitzer (michael.granitzer@uni-passau.de)\n",
    "- https://medium.com/machine-learning-guy/an-introduction-to-decision-tree-learning-id3-algorithm-54c74eb2ad55\n",
    "-https://towardsdatascience.com/decision-trees-for-classification-id3-algorithm-explained-89df76e72df1"
   ]
  },
  {
   "cell_type": "code",
   "execution_count": 5,
   "metadata": {},
   "outputs": [],
   "source": [
    "import pandas as pd\n",
    "import numpy as np"
   ]
  },
  {
   "cell_type": "markdown",
   "metadata": {},
   "source": [
    "# Goal: Implement the ID3-Algorithm\n",
    "\n",
    "Experiments are conducted on the [UCI CAR Dataset](http://archive.ics.uci.edu/ml/machine-learning-databases/car/).\n",
    "\n",
    "We will cover\n",
    "  \n",
    "  * Data Setup\n",
    "  * Impurity functions and impurity reduction\n",
    "  * ID3 Algorithm for learning a decision tree\n",
    "  * Classifying unseen examples\n",
    "  * Evaluation using cross validation"
   ]
  },
  {
   "cell_type": "markdown",
   "metadata": {},
   "source": [
    "### Pseudocode¶"
   ]
  },
  {
   "cell_type": "markdown",
   "metadata": {},
   "source": [
    "`ID3 (Examples, Target_Attribute, Attributes)\n",
    "    Create a root node for the tree\n",
    "    If all examples are positive, Return the single-node tree Root, with label = +.\n",
    "    If all examples are negative, Return the single-node tree Root, with label = -.\n",
    "    If number of predicting attributes is empty, then Return the single node tree Root,\n",
    "    with label = most common value of the target attribute in the examples.\n",
    "    Otherwise Begin\n",
    "        A ← The Attribute that best classifies examples.\n",
    "        Decision Tree attribute for Root = A.\n",
    "        For each possible value, vi, of A,\n",
    "            Add a new tree branch below Root, corresponding to the test A = vi.\n",
    "            Let Examples(vi) be the subset of examples that have the value vi for A\n",
    "            If Examples(vi) is empty\n",
    "                Then below this new branch add a leaf node with label = most common target value in the examples\n",
    "            Else below this new branch add the subtree ID3 (Examples(vi), Target_Attribute, Attributes – {A})\n",
    "    End\n",
    "    Return Root`\n",
    "    \n"
   ]
  },
  {
   "cell_type": "markdown",
   "metadata": {},
   "source": [
    "## Data Setup"
   ]
  },
  {
   "cell_type": "markdown",
   "metadata": {},
   "source": [
    "### Download and import the data"
   ]
  },
  {
   "cell_type": "code",
   "execution_count": 1,
   "metadata": {},
   "outputs": [
    {
     "name": "stderr",
     "output_type": "stream",
     "text": [
      "  % Total    % Received % Xferd  Average Speed   Time    Time     Time  Current\n",
      "                                 Dload  Upload   Total   Spent    Left  Speed\n",
      "\n",
      "  0     0    0     0    0     0      0      0 --:--:-- --:--:-- --:--:--     0\n",
      "100 51867  100 51867    0     0  59892      0 --:--:-- --:--:-- --:--:-- 59892\n",
      "100 51867  100 51867    0     0  59754      0 --:--:-- --:--:-- --:--:-- 59823\n",
      "  % Total    % Received % Xferd  Average Speed   Time    Time     Time  Current\n",
      "                                 Dload  Upload   Total   Spent    Left  Speed\n",
      "\n",
      "  0     0    0     0    0     0      0      0 --:--:-- --:--:-- --:--:--     0\n",
      "100  3097  100  3097    0     0   6703      0 --:--:-- --:--:-- --:--:--  6718\n",
      "\"cat\" ­Ґ пў«пҐвбп ў­гваҐ­­Ґ© Ё«Ё ў­Ґи­Ґ©\n",
      "Є®¬ ­¤®©, ЁбЇ®«­пҐ¬®© Їа®Ја ¬¬®© Ё«Ё Ї ЄҐв­л¬ д ©«®¬.\n"
     ]
    }
   ],
   "source": [
    "#shell scripts for downloading the data and placing it in a corresponding directory\n",
    "!mkdir CAR \n",
    "!curl -o CAR/data \"http://archive.ics.uci.edu/ml/machine-learning-databases/car/car.data\"\n",
    "!curl -o CAR/description \"http://archive.ics.uci.edu/ml/machine-learning-databases/car/car.names\"\n",
    "#download the description and display it here.\n",
    "!cat CAR/description"
   ]
  },
  {
   "cell_type": "code",
   "execution_count": 6,
   "metadata": {},
   "outputs": [
    {
     "name": "stdout",
     "output_type": "stream",
     "text": [
      "      price_buy  price_main  n_doors  n_persons  lug_boot  safety  \\\n",
      "0             3           3        0          0         2       1   \n",
      "1             3           3        0          0         2       2   \n",
      "2             3           3        0          0         2       0   \n",
      "3             3           3        0          0         1       1   \n",
      "4             3           3        0          0         1       2   \n",
      "...         ...         ...      ...        ...       ...     ...   \n",
      "1723          1           1        3          2         1       2   \n",
      "1724          1           1        3          2         1       0   \n",
      "1725          1           1        3          2         0       1   \n",
      "1726          1           1        3          2         0       2   \n",
      "1727          1           1        3          2         0       0   \n",
      "\n",
      "      recommendation  \n",
      "0                  2  \n",
      "1                  2  \n",
      "2                  2  \n",
      "3                  2  \n",
      "4                  2  \n",
      "...              ...  \n",
      "1723               1  \n",
      "1724               3  \n",
      "1725               2  \n",
      "1726               1  \n",
      "1727               3  \n",
      "\n",
      "[1728 rows x 7 columns]\n",
      "(1728, 6) (1728,)\n"
     ]
    }
   ],
   "source": [
    "col_names = ['price_buy', 'price_main', 'n_doors', 'n_persons', 'lug_boot', 'safety', 'recommendation']\n",
    "df = pd.read_csv(\"./CAR/data\", header=None, names=col_names)\n",
    "\n",
    "\n",
    "# All attributes are categorical - a mix of strings and integers.\n",
    "# We simply map the categorical values of each attribute to a set of distinct integers\n",
    "ai2an_map = col_names\n",
    "ai2aiv2aivn_map = []\n",
    "enc_cols = []\n",
    "for col in df.columns:\n",
    "    df[col] = df[col].astype('category')\n",
    "    a = np.array(df[col].cat.codes.values).reshape((-1,1))\n",
    "    enc_cols.append(a)\n",
    "    ai2aiv2aivn_map.append(list(df[col].cat.categories.values))\n",
    "\n",
    "    \n",
    "    \n",
    "# Get the data as numpy 2d-matrix (n_samples, n_features)\n",
    "dataset = np.hstack(enc_cols)\n",
    "df_new=pd.DataFrame(dataset, index=None, columns=col_names)\n",
    "print(df_new)\n",
    "X, y = dataset[:,:6], dataset[:,6]\n",
    "print(X.shape, y.shape)"
   ]
  },
  {
   "cell_type": "markdown",
   "metadata": {},
   "source": [
    "## Model Implementation"
   ]
  },
  {
   "cell_type": "code",
   "execution_count": 7,
   "metadata": {},
   "outputs": [],
   "source": [
    "class DecisionTreeID3():\n",
    "    def __init__(self, target_name='recommendation'):\n",
    "        \"\"\"\n",
    "        tsrget_name - name for target column\n",
    "        first_gini - list for counting gini\n",
    "        \"\"\"\n",
    "        self.target_name=target_name\n",
    "        self.first_gini=[] \n",
    "        self.result=0\n",
    "        \n",
    "    def _gini(self, data, feature_name,category,target_name):\n",
    "        \"\"\"\n",
    "        Description:\n",
    "        Function for calculating gini impurity(G_i = 1- sum(P_i_k)^2).\n",
    "\n",
    "        Args:\n",
    "        data - dataset of data(pandas.DataFrame)\n",
    "        feature_name - list of features \n",
    "        category - list of categories (what can be inside every feature)\n",
    "        target_name - target name. \n",
    "\n",
    "        Returns:\n",
    "        gini-impurity \n",
    "        \"\"\"\n",
    "        #calculate the length for category in features\n",
    "        common_length=len(data[data[feature_name]==category])    \n",
    "        def P_i_K(target, feature_name):\n",
    "            #calculate probability for every variants in target column for avary category in feature\n",
    "            return len(data[(data[feature_name]==category) & (data[target_name]==target)])/common_length\n",
    "        #impurity of every category in feature \n",
    "        gini_impurity=1-sum(P_i_K(target, feature_name)**2 for target in set(data[target_name])) \n",
    "        return gini_impurity\n",
    "\n",
    "\n",
    "    def _total_gini(self, data, feature_name, target_name):\n",
    "        \"\"\"\n",
    "        Description:\n",
    "        Function for calculation total gini impurity (G=sum(Gini_i*P_k_a))\n",
    "\n",
    "        Args:\n",
    "        data - dataset of data(pandas.DataFrame)\n",
    "        feature_name - list of features \n",
    "        target_name - target name. \n",
    "\n",
    "        Returns:\n",
    "        Total gini  - information gain\n",
    "        \"\"\"\n",
    "        def P_k_a(category, feature_name):\n",
    "            #probability for every category in whole data\n",
    "            return len(data[data[feature_name]==category])/len(data)\n",
    "        #for every category in feature\n",
    "        for category in set(data[feature_name]):\n",
    "            #calculate information gain for every feature\n",
    "            gini_value=self._gini(data, feature_name, category, self.target_name)\n",
    "            P_k_a_value=P_k_a(category, feature_name)\n",
    "            self.result+=gini_value*P_k_a_value\n",
    "        return self.result\n",
    "  \n",
    "\n",
    "    def _result(self, data):\n",
    "        \"\"\"\n",
    "        Description:\n",
    "        Function for collecting information gains for all features for every node\n",
    "\n",
    "\n",
    "        Args:\n",
    "        data - dataset of data(pandas.DataFrame)\n",
    "\n",
    "        Returns:\n",
    "        First_gini - list of result for total gini impurity\n",
    "        \"\"\"\n",
    "        #feature names - all feature before last column\n",
    "        feature_names=data.keys()[:-1]\n",
    "        for feature_name in feature_names: \n",
    "            self.first_gini.append(self._total_gini(data, feature_name, self.target_name))\n",
    "        return self.first_gini\n",
    "    \n",
    "    \n",
    "    def _buildTree(self, data, tree=None):\n",
    "        \"\"\"\n",
    "        Description:\n",
    "        Function for building tree\n",
    "        \n",
    "        Args: \n",
    "        data - dataset of data(pandas.DataFrame)\n",
    "        tree  - vocabulary with tree\n",
    "        \n",
    "        Returns:\n",
    "        tree\"\"\"\n",
    "        #features which we will use for predictions, future nodes\n",
    "        feature_names=data.keys()[:-1]\n",
    "        #dictionary with features+information gain for them(can be via entropy or gini)\n",
    "        voc=dict(zip(feature_names,self._result(data)))\n",
    "        \n",
    "        #if we use gini then we will choose minimum one\n",
    "        node=min(voc, key=voc.get)\n",
    "        \n",
    "        if tree is None:\n",
    "            tree={}\n",
    "            tree[node]={}\n",
    "\n",
    "        attributes=np.unique(data[node])\n",
    "\n",
    "        #just go deep into the tree, for every nodes we cheking information gain \n",
    "        for value in attributes:\n",
    "            df_new_2=data[data[node]==value]\n",
    "            clValue,counts=np.unique(df_new_2[self.target_name], return_counts=True)\n",
    "\n",
    "            if len(counts)==1:\n",
    "                tree[node][value]=clValue[0]\n",
    "            else:\n",
    "                tree[node][value]=self._buildTree(df_new_2.drop(columns=node))\n",
    "        \n",
    "        return tree\n",
    "    \n",
    "    \n",
    "    def _predict(self, inst, tree):\n",
    "        \"\"\"\n",
    "        Description:\n",
    "        Function for prediction using tree\n",
    "\n",
    "        Args:\n",
    "        inst- data for prediction - pandas.Series\n",
    "        tree- tree from training\n",
    "        \n",
    "        Returns:\n",
    "        prediction\n",
    "        \"\"\"\n",
    "        for nodes in tree.keys():\n",
    "            value=inst[nodes]\n",
    "            tree=tree[nodes][value]\n",
    "            prediction=0\n",
    "            \n",
    "            if type(tree) is dict:\n",
    "                prediction=self._predict(inst,tree)\n",
    "            else:\n",
    "                prediction=tree\n",
    "                break;\n",
    "\n",
    "        return prediction"
   ]
  },
  {
   "cell_type": "code",
   "execution_count": 8,
   "metadata": {},
   "outputs": [],
   "source": [
    "model=DecisionTreeID3()"
   ]
  },
  {
   "cell_type": "code",
   "execution_count": 13,
   "metadata": {},
   "outputs": [],
   "source": [
    "tree_for_model=model._buildTree(df_new)"
   ]
  },
  {
   "cell_type": "markdown",
   "metadata": {},
   "source": [
    "### Prediction"
   ]
  },
  {
   "cell_type": "code",
   "execution_count": 9,
   "metadata": {},
   "outputs": [],
   "source": [
    "data_for_test={'price_buy':1, 'price_main':2, 'n_doors':3, 'n_persons':2, 'lug_boot':2, 'safety':0}"
   ]
  },
  {
   "cell_type": "code",
   "execution_count": 10,
   "metadata": {},
   "outputs": [],
   "source": [
    "inst=pd.Series(data_for_test)"
   ]
  },
  {
   "cell_type": "code",
   "execution_count": 12,
   "metadata": {},
   "outputs": [
    {
     "name": "stdout",
     "output_type": "stream",
     "text": [
      "The car is 1\n"
     ]
    }
   ],
   "source": [
    "#prediction which car I should buy\n",
    "print(\"The car is %s\"%model._predict(inst,tree_for_model))"
   ]
  },
  {
   "cell_type": "code",
   "execution_count": null,
   "metadata": {},
   "outputs": [],
   "source": []
  }
 ],
 "metadata": {
  "kernelspec": {
   "display_name": "Python 3",
   "language": "python",
   "name": "python3"
  },
  "language_info": {
   "codemirror_mode": {
    "name": "ipython",
    "version": 3
   },
   "file_extension": ".py",
   "mimetype": "text/x-python",
   "name": "python",
   "nbconvert_exporter": "python",
   "pygments_lexer": "ipython3",
   "version": "3.8.5"
  }
 },
 "nbformat": 4,
 "nbformat_minor": 4
}
